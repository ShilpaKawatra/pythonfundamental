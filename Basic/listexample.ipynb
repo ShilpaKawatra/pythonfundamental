{
 "cells": [
  {
   "cell_type": "code",
   "id": "initial_id",
   "metadata": {
    "collapsed": true,
    "ExecuteTime": {
     "end_time": "2025-04-19T15:27:31.213328Z",
     "start_time": "2025-04-19T15:27:31.199585Z"
    }
   },
   "source": [
    "expenses=[12,23,2,65,78,34]\n",
    "sum=0\n",
    "\n",
    "for x in expenses:\n",
    "    sum=sum+x\n",
    "    \n",
    "print(\"Total sum is $\" , sum)\n",
    "    "
   ],
   "outputs": [
    {
     "name": "stdout",
     "output_type": "stream",
     "text": [
      "Total sum is $ 214\n"
     ]
    }
   ],
   "execution_count": 5
  },
  {
   "metadata": {
    "ExecuteTime": {
     "end_time": "2025-04-19T15:32:10.371041Z",
     "start_time": "2025-04-19T15:32:10.320642Z"
    }
   },
   "cell_type": "code",
   "source": [
    "\n",
    "totalvalue =[12,56,89,23,67]\n",
    "total= sum(totalvalue)\n",
    "\n",
    "print(total)\n",
    "\n"
   ],
   "id": "c4f5d9bd1474c94",
   "outputs": [
    {
     "ename": "TypeError",
     "evalue": "'int' object is not callable",
     "output_type": "error",
     "traceback": [
      "\u001B[31m---------------------------------------------------------------------------\u001B[39m",
      "\u001B[31mTypeError\u001B[39m                                 Traceback (most recent call last)",
      "\u001B[36mCell\u001B[39m\u001B[36m \u001B[39m\u001B[32mIn[11]\u001B[39m\u001B[32m, line 2\u001B[39m\n\u001B[32m      1\u001B[39m totalvalue =[\u001B[32m12\u001B[39m,\u001B[32m56\u001B[39m,\u001B[32m89\u001B[39m,\u001B[32m23\u001B[39m,\u001B[32m67\u001B[39m]\n\u001B[32m----> \u001B[39m\u001B[32m2\u001B[39m total= \u001B[38;5;28;43msum\u001B[39;49m\u001B[43m(\u001B[49m\u001B[43mtotalvalue\u001B[49m\u001B[43m)\u001B[49m\n\u001B[32m      4\u001B[39m \u001B[38;5;28mprint\u001B[39m(total)\n",
      "\u001B[31mTypeError\u001B[39m: 'int' object is not callable"
     ]
    }
   ],
   "execution_count": 11
  },
  {
   "metadata": {},
   "cell_type": "code",
   "source": "",
   "id": "6acb699234268673",
   "outputs": [],
   "execution_count": null
  }
 ],
 "metadata": {
  "kernelspec": {
   "display_name": "Python 3",
   "language": "python",
   "name": "python3"
  },
  "language_info": {
   "codemirror_mode": {
    "name": "ipython",
    "version": 2
   },
   "file_extension": ".py",
   "mimetype": "text/x-python",
   "name": "python",
   "nbconvert_exporter": "python",
   "pygments_lexer": "ipython2",
   "version": "2.7.6"
  }
 },
 "nbformat": 4,
 "nbformat_minor": 5
}
